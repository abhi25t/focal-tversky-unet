{
 "cells": [
  {
   "cell_type": "code",
   "execution_count": 1,
   "metadata": {},
   "outputs": [],
   "source": [
    "from tensorflow.compat.v1 import ConfigProto\n",
    "from tensorflow.compat.v1 import InteractiveSession\n",
    "\n",
    "config = ConfigProto()\n",
    "config.gpu_options.allow_growth = True\n",
    "session = InteractiveSession(config=config)\n",
    "\n",
    "# https://github.com/tensorflow/tensorflow/issues/24828\n",
    "# Allowing GPU memory growth\n",
    "# https://www.tensorflow.org/guide/using_gpu\n",
    "\n",
    "# To Answer on ---- https://stackoverflow.com/questions/53698035/failed-to-get-convolution-algorithm-this-is-probably-because-cudnn-failed-to-in"
   ]
  },
  {
   "cell_type": "code",
   "execution_count": 2,
   "metadata": {},
   "outputs": [],
   "source": [
    "import sys\n",
    "def sizeof_fmt(num, suffix='B'):\n",
    "    ''' for checking memory occupied by variables'''\n",
    "    for unit in ['','Ki','Mi','Gi','Ti','Pi','Ei','Zi']:\n",
    "        if abs(num) < 1024.0:\n",
    "            return \"%3.1f%s%s\" % (num, unit, suffix)\n",
    "        num /= 1024.0\n",
    "    return \"%.1f%s%s\" % (num, 'Yi', suffix)"
   ]
  },
  {
   "cell_type": "code",
   "execution_count": 3,
   "metadata": {},
   "outputs": [],
   "source": [
    "import os \n",
    "import numpy as np \n",
    "import tensorflow as tf\n",
    "import matplotlib.pyplot as plt \n",
    "\n",
    "from sklearn.metrics import roc_curve, auc, precision_recall_curve # roc curve tools\n",
    "from sklearn.model_selection import train_test_split\n",
    "\n",
    "from skimage.transform import resize"
   ]
  },
  {
   "cell_type": "code",
   "execution_count": 4,
   "metadata": {},
   "outputs": [
    {
     "name": "stderr",
     "output_type": "stream",
     "text": [
      "Using TensorFlow backend.\n"
     ]
    }
   ],
   "source": [
    "from keras.models import Model\n",
    "from keras.layers import Input, concatenate, Conv2D, MaxPooling2D, Conv2DTranspose\n",
    "from keras.layers import Activation, add, multiply, Lambda\n",
    "from keras.layers import AveragePooling2D, average, UpSampling2D, Dropout\n",
    "from keras.optimizers import Adam, SGD, RMSprop\n",
    "from keras.initializers import glorot_normal, random_normal, random_uniform\n",
    "from keras.callbacks import ModelCheckpoint, TensorBoard, EarlyStopping\n",
    "from keras import backend as K\n",
    "from keras.layers.normalization import BatchNormalization"
   ]
  },
  {
   "cell_type": "code",
   "execution_count": 5,
   "metadata": {},
   "outputs": [],
   "source": [
    "import losses \n",
    "import utils \n",
    "import newmodels"
   ]
  },
  {
   "cell_type": "code",
   "execution_count": 6,
   "metadata": {},
   "outputs": [],
   "source": [
    "img_row = 192\n",
    "img_col = 256\n",
    "img_chan = 3\n",
    "epochnum = 50\n",
    "batchnum = 16  \n",
    "smooth = 1."
   ]
  },
  {
   "cell_type": "code",
   "execution_count": 7,
   "metadata": {},
   "outputs": [
    {
     "name": "stdout",
     "output_type": "stream",
     "text": [
      "WARNING:tensorflow:From /home/abhi/tfgpu/lib/python3.5/site-packages/tensorflow/python/framework/op_def_library.py:263: colocate_with (from tensorflow.python.framework.ops) is deprecated and will be removed in a future version.\n",
      "Instructions for updating:\n",
      "Colocations handled automatically by placer.\n"
     ]
    }
   ],
   "source": [
    "input_size = (img_row, img_col, img_chan)\n",
    "    \n",
    "sgd = SGD(lr=0.01, momentum=0.90, decay=1e-6)\n",
    "adam = Adam(lr=1e-3) "
   ]
  },
  {
   "cell_type": "code",
   "execution_count": 8,
   "metadata": {},
   "outputs": [],
   "source": [
    "curr_dir = os.getcwd()\n",
    "train_dir = os.path.join(curr_dir, 'resized_train')\n",
    "gt_dir = os.path.join(curr_dir, 'resized_gt')\n",
    "orig_dir = os.path.join(curr_dir, 'orig_gt')"
   ]
  },
  {
   "cell_type": "code",
   "execution_count": 9,
   "metadata": {},
   "outputs": [],
   "source": [
    "img_list = os.listdir(train_dir)\n",
    "num_imgs = len(img_list)\n",
    "\n",
    "orig_data = np.zeros((num_imgs, img_row, img_col, img_chan))\n",
    "orig_masks = np.zeros((num_imgs, img_row, img_col,1))"
   ]
  },
  {
   "cell_type": "code",
   "execution_count": 10,
   "metadata": {},
   "outputs": [],
   "source": [
    "for idx,img_name in enumerate(img_list): \n",
    "    orig_data[idx] = plt.imread(os.path.join(train_dir, img_name))\n",
    "    orig_masks[idx,:,:,0] = plt.imread(os.path.join(gt_dir, img_name.split('.')[0] + \"_segmentation.png\"))"
   ]
  },
  {
   "cell_type": "code",
   "execution_count": 11,
   "metadata": {},
   "outputs": [],
   "source": [
    "indices = np.arange(0,num_imgs,1)\n",
    "\n",
    "imgs_train, imgs_test, \\\n",
    "imgs_mask_train, orig_imgs_mask_test,\\\n",
    "trainIdx, testIdx = train_test_split(orig_data,orig_masks, indices,test_size=0.25)"
   ]
  },
  {
   "cell_type": "code",
   "execution_count": 12,
   "metadata": {},
   "outputs": [],
   "source": [
    "imgs_train /= 255\n",
    "imgs_test /=255"
   ]
  },
  {
   "cell_type": "code",
   "execution_count": 13,
   "metadata": {},
   "outputs": [],
   "source": [
    "estop = EarlyStopping(monitor='val_loss', min_delta=0.001, patience=5, mode='auto')\n",
    "filepath=\"weights.hdf5\"\n",
    "checkpoint = ModelCheckpoint(filepath, monitor='val_final_dsc', \n",
    "                             verbose=1, save_best_only=True, save_weights_only=True, mode='max')"
   ]
  },
  {
   "cell_type": "code",
   "execution_count": 14,
   "metadata": {},
   "outputs": [],
   "source": [
    "gt1 = imgs_mask_train[:,::8,::8,:]\n",
    "gt2 = imgs_mask_train[:,::4,::4,:]\n",
    "gt3 = imgs_mask_train[:,::2,::2,:]\n",
    "gt4 = imgs_mask_train\n",
    "gt_train = [gt1,gt2,gt3,gt4]"
   ]
  },
  {
   "cell_type": "code",
   "execution_count": 15,
   "metadata": {},
   "outputs": [],
   "source": [
    "model = newmodels.attn_reg(sgd, input_size, losses.focal_tversky)"
   ]
  },
  {
   "cell_type": "code",
   "execution_count": 16,
   "metadata": {},
   "outputs": [
    {
     "name": "stdout",
     "output_type": "stream",
     "text": [
      "                     orig_data:   2.8GiB\n",
      "                    imgs_train:   2.1GiB\n",
      "                    orig_masks: 972.8MiB\n",
      "                     imgs_test: 730.1MiB\n",
      "                           gt4: 729.4MiB\n",
      "               imgs_mask_train: 729.4MiB\n",
      "           orig_imgs_mask_test: 243.4MiB\n",
      "                      img_list:  20.6KiB\n",
      "                       indices:  20.4KiB\n",
      "                      trainIdx:  15.3KiB\n"
     ]
    }
   ],
   "source": [
    "for name, size in sorted(((name, sys.getsizeof(value)) for name,value in locals().items()),\n",
    "                         key= lambda x: -x[1])[:10]:\n",
    "    print(\"{:>30}: {:>8}\".format(name,sizeof_fmt(size)))"
   ]
  },
  {
   "cell_type": "code",
   "execution_count": 17,
   "metadata": {},
   "outputs": [],
   "source": [
    "del orig_data\n",
    "del orig_masks"
   ]
  },
  {
   "cell_type": "code",
   "execution_count": 18,
   "metadata": {
    "scrolled": false
   },
   "outputs": [
    {
     "name": "stdout",
     "output_type": "stream",
     "text": [
      "Train on 1653 samples, validate on 292 samples\n",
      "Epoch 1/50\n",
      "1653/1653 [==============================] - 38s 23ms/step - loss: 1.6462 - pred1_loss: 0.3974 - pred2_loss: 0.4038 - pred3_loss: 0.4612 - final_loss: 0.3838 - pred1_dsc: 0.6412 - pred2_dsc: 0.6384 - pred3_dsc: 0.5642 - final_dsc: 0.5485 - val_loss: 2.1379 - val_pred1_loss: 0.4499 - val_pred2_loss: 0.6719 - val_pred3_loss: 0.5110 - val_final_loss: 0.5052 - val_pred1_dsc: 0.5560 - val_pred2_dsc: 0.3839 - val_pred3_dsc: 0.4804 - val_final_dsc: 0.3761\n",
      "\n",
      "Epoch 00001: val_final_dsc improved from -inf to 0.37613, saving model to weights.hdf5\n",
      "Epoch 2/50\n",
      "1653/1653 [==============================] - 32s 20ms/step - loss: 1.2137 - pred1_loss: 0.3210 - pred2_loss: 0.3233 - pred3_loss: 0.3292 - final_loss: 0.2403 - pred1_dsc: 0.7372 - pred2_dsc: 0.7352 - pred3_dsc: 0.7281 - final_dsc: 0.7164 - val_loss: 1.2293 - val_pred1_loss: 0.3091 - val_pred2_loss: 0.3310 - val_pred3_loss: 0.3374 - val_final_loss: 0.2517 - val_pred1_dsc: 0.7582 - val_pred2_dsc: 0.7509 - val_pred3_dsc: 0.7480 - val_final_dsc: 0.7345\n",
      "\n",
      "Epoch 00002: val_final_dsc improved from 0.37613 to 0.73448, saving model to weights.hdf5\n",
      "Epoch 3/50\n",
      "1653/1653 [==============================] - 33s 20ms/step - loss: 1.0627 - pred1_loss: 0.2856 - pred2_loss: 0.2885 - pred3_loss: 0.2904 - final_loss: 0.1983 - pred1_dsc: 0.7749 - pred2_dsc: 0.7687 - pred3_dsc: 0.7690 - final_dsc: 0.7671 - val_loss: 1.2838 - val_pred1_loss: 0.3516 - val_pred2_loss: 0.3425 - val_pred3_loss: 0.3400 - val_final_loss: 0.2497 - val_pred1_dsc: 0.6565 - val_pred2_dsc: 0.6679 - val_pred3_dsc: 0.6727 - val_final_dsc: 0.6625\n",
      "\n",
      "Epoch 00003: val_final_dsc did not improve from 0.73448\n",
      "Epoch 4/50\n",
      "1653/1653 [==============================] - 34s 20ms/step - loss: 0.9874 - pred1_loss: 0.2665 - pred2_loss: 0.2692 - pred3_loss: 0.2712 - final_loss: 0.1805 - pred1_dsc: 0.7981 - pred2_dsc: 0.7934 - pred3_dsc: 0.7929 - final_dsc: 0.7921 - val_loss: 1.2455 - val_pred1_loss: 0.3315 - val_pred2_loss: 0.3285 - val_pred3_loss: 0.3371 - val_final_loss: 0.2485 - val_pred1_dsc: 0.7266 - val_pred2_dsc: 0.7483 - val_pred3_dsc: 0.7450 - val_final_dsc: 0.7390\n",
      "\n",
      "Epoch 00004: val_final_dsc improved from 0.73448 to 0.73896, saving model to weights.hdf5\n",
      "Epoch 5/50\n",
      "1653/1653 [==============================] - 34s 21ms/step - loss: 0.9663 - pred1_loss: 0.2623 - pred2_loss: 0.2637 - pred3_loss: 0.2655 - final_loss: 0.1748 - pred1_dsc: 0.8017 - pred2_dsc: 0.7983 - pred3_dsc: 0.7983 - final_dsc: 0.7974 - val_loss: 1.1173 - val_pred1_loss: 0.2972 - val_pred2_loss: 0.3051 - val_pred3_loss: 0.3067 - val_final_loss: 0.2083 - val_pred1_dsc: 0.7329 - val_pred2_dsc: 0.7206 - val_pred3_dsc: 0.7214 - val_final_dsc: 0.7222\n",
      "\n",
      "Epoch 00005: val_final_dsc did not improve from 0.73896\n",
      "Epoch 6/50\n",
      "1653/1653 [==============================] - 34s 21ms/step - loss: 0.9080 - pred1_loss: 0.2461 - pred2_loss: 0.2490 - pred3_loss: 0.2510 - final_loss: 0.1618 - pred1_dsc: 0.8175 - pred2_dsc: 0.8124 - pred3_dsc: 0.8122 - final_dsc: 0.8118 - val_loss: 0.9741 - val_pred1_loss: 0.2685 - val_pred2_loss: 0.2666 - val_pred3_loss: 0.2659 - val_final_loss: 0.1729 - val_pred1_dsc: 0.7768 - val_pred2_dsc: 0.7766 - val_pred3_dsc: 0.7796 - val_final_dsc: 0.7808\n",
      "\n",
      "Epoch 00006: val_final_dsc improved from 0.73896 to 0.78083, saving model to weights.hdf5\n",
      "Epoch 7/50\n",
      "1653/1653 [==============================] - 34s 21ms/step - loss: 0.8854 - pred1_loss: 0.2413 - pred2_loss: 0.2429 - pred3_loss: 0.2448 - final_loss: 0.1564 - pred1_dsc: 0.8214 - pred2_dsc: 0.8187 - pred3_dsc: 0.8176 - final_dsc: 0.8171 - val_loss: 0.9886 - val_pred1_loss: 0.2627 - val_pred2_loss: 0.2728 - val_pred3_loss: 0.2733 - val_final_loss: 0.1799 - val_pred1_dsc: 0.7788 - val_pred2_dsc: 0.7633 - val_pred3_dsc: 0.7634 - val_final_dsc: 0.7636\n",
      "\n",
      "Epoch 00007: val_final_dsc did not improve from 0.78083\n",
      "Epoch 8/50\n",
      "1653/1653 [==============================] - 34s 21ms/step - loss: 0.8594 - pred1_loss: 0.2344 - pred2_loss: 0.2362 - pred3_loss: 0.2380 - final_loss: 0.1508 - pred1_dsc: 0.8275 - pred2_dsc: 0.8246 - pred3_dsc: 0.8237 - final_dsc: 0.8230 - val_loss: 0.8983 - val_pred1_loss: 0.2468 - val_pred2_loss: 0.2467 - val_pred3_loss: 0.2477 - val_final_loss: 0.1571 - val_pred1_dsc: 0.7993 - val_pred2_dsc: 0.7985 - val_pred3_dsc: 0.7974 - val_final_dsc: 0.7979\n",
      "\n",
      "Epoch 00008: val_final_dsc improved from 0.78083 to 0.79790, saving model to weights.hdf5\n",
      "Epoch 9/50\n",
      "1653/1653 [==============================] - 34s 21ms/step - loss: 0.8399 - pred1_loss: 0.2300 - pred2_loss: 0.2311 - pred3_loss: 0.2329 - final_loss: 0.1459 - pred1_dsc: 0.8339 - pred2_dsc: 0.8315 - pred3_dsc: 0.8310 - final_dsc: 0.8305 - val_loss: 0.8695 - val_pred1_loss: 0.2390 - val_pred2_loss: 0.2374 - val_pred3_loss: 0.2401 - val_final_loss: 0.1530 - val_pred1_dsc: 0.8316 - val_pred2_dsc: 0.8341 - val_pred3_dsc: 0.8336 - val_final_dsc: 0.8315\n",
      "\n",
      "Epoch 00009: val_final_dsc improved from 0.79790 to 0.83149, saving model to weights.hdf5\n",
      "Epoch 10/50\n",
      "1653/1653 [==============================] - 34s 21ms/step - loss: 0.8278 - pred1_loss: 0.2269 - pred2_loss: 0.2280 - pred3_loss: 0.2298 - final_loss: 0.1432 - pred1_dsc: 0.8383 - pred2_dsc: 0.8359 - pred3_dsc: 0.8358 - final_dsc: 0.8356 - val_loss: 0.8440 - val_pred1_loss: 0.2314 - val_pred2_loss: 0.2310 - val_pred3_loss: 0.2343 - val_final_loss: 0.1473 - val_pred1_dsc: 0.8473 - val_pred2_dsc: 0.8456 - val_pred3_dsc: 0.8449 - val_final_dsc: 0.8447\n",
      "\n",
      "Epoch 00010: val_final_dsc improved from 0.83149 to 0.84473, saving model to weights.hdf5\n",
      "Epoch 11/50\n",
      "1653/1653 [==============================] - 34s 21ms/step - loss: 0.7962 - pred1_loss: 0.2186 - pred2_loss: 0.2198 - pred3_loss: 0.2212 - final_loss: 0.1366 - pred1_dsc: 0.8459 - pred2_dsc: 0.8437 - pred3_dsc: 0.8432 - final_dsc: 0.8427 - val_loss: 0.8525 - val_pred1_loss: 0.2347 - val_pred2_loss: 0.2340 - val_pred3_loss: 0.2362 - val_final_loss: 0.1477 - val_pred1_dsc: 0.8279 - val_pred2_dsc: 0.8276 - val_pred3_dsc: 0.8268 - val_final_dsc: 0.8270\n",
      "\n",
      "Epoch 00011: val_final_dsc did not improve from 0.84473\n",
      "Epoch 12/50\n",
      "1653/1653 [==============================] - 34s 21ms/step - loss: 0.8025 - pred1_loss: 0.2199 - pred2_loss: 0.2215 - pred3_loss: 0.2231 - final_loss: 0.1380 - pred1_dsc: 0.8429 - pred2_dsc: 0.8394 - pred3_dsc: 0.8391 - final_dsc: 0.8381 - val_loss: 0.8861 - val_pred1_loss: 0.2400 - val_pred2_loss: 0.2433 - val_pred3_loss: 0.2455 - val_final_loss: 0.1573 - val_pred1_dsc: 0.8402 - val_pred2_dsc: 0.8377 - val_pred3_dsc: 0.8377 - val_final_dsc: 0.8367\n",
      "\n",
      "Epoch 00012: val_final_dsc did not improve from 0.84473\n",
      "Epoch 13/50\n",
      "1653/1653 [==============================] - 34s 21ms/step - loss: 0.7565 - pred1_loss: 0.2080 - pred2_loss: 0.2092 - pred3_loss: 0.2110 - final_loss: 0.1282 - pred1_dsc: 0.8551 - pred2_dsc: 0.8535 - pred3_dsc: 0.8531 - final_dsc: 0.8526 - val_loss: 0.8030 - val_pred1_loss: 0.2232 - val_pred2_loss: 0.2206 - val_pred3_loss: 0.2222 - val_final_loss: 0.1370 - val_pred1_dsc: 0.8603 - val_pred2_dsc: 0.8560 - val_pred3_dsc: 0.8554 - val_final_dsc: 0.8544\n",
      "\n",
      "Epoch 00013: val_final_dsc improved from 0.84473 to 0.85436, saving model to weights.hdf5\n",
      "Epoch 14/50\n",
      "1653/1653 [==============================] - 34s 21ms/step - loss: 0.7643 - pred1_loss: 0.2102 - pred2_loss: 0.2114 - pred3_loss: 0.2131 - final_loss: 0.1296 - pred1_dsc: 0.8528 - pred2_dsc: 0.8501 - pred3_dsc: 0.8497 - final_dsc: 0.8494 - val_loss: 0.8233 - val_pred1_loss: 0.2278 - val_pred2_loss: 0.2261 - val_pred3_loss: 0.2276 - val_final_loss: 0.1418 - val_pred1_dsc: 0.8455 - val_pred2_dsc: 0.8414 - val_pred3_dsc: 0.8406 - val_final_dsc: 0.8397\n",
      "\n",
      "Epoch 00014: val_final_dsc did not improve from 0.85436\n",
      "Epoch 15/50\n",
      "1653/1653 [==============================] - 34s 21ms/step - loss: 0.7453 - pred1_loss: 0.2055 - pred2_loss: 0.2062 - pred3_loss: 0.2079 - final_loss: 0.1257 - pred1_dsc: 0.8537 - pred2_dsc: 0.8522 - pred3_dsc: 0.8517 - final_dsc: 0.8512 - val_loss: 0.7961 - val_pred1_loss: 0.2211 - val_pred2_loss: 0.2193 - val_pred3_loss: 0.2202 - val_final_loss: 0.1356 - val_pred1_dsc: 0.8339 - val_pred2_dsc: 0.8416 - val_pred3_dsc: 0.8409 - val_final_dsc: 0.8388\n",
      "\n",
      "Epoch 00015: val_final_dsc did not improve from 0.85436\n",
      "Epoch 16/50\n"
     ]
    },
    {
     "name": "stdout",
     "output_type": "stream",
     "text": [
      "1653/1653 [==============================] - 32s 20ms/step - loss: 0.7439 - pred1_loss: 0.2050 - pred2_loss: 0.2060 - pred3_loss: 0.2077 - final_loss: 0.1252 - pred1_dsc: 0.8532 - pred2_dsc: 0.8523 - pred3_dsc: 0.8516 - final_dsc: 0.8510 - val_loss: 0.9778 - val_pred1_loss: 0.2534 - val_pred2_loss: 0.2714 - val_pred3_loss: 0.2704 - val_final_loss: 0.1827 - val_pred1_dsc: 0.8302 - val_pred2_dsc: 0.8209 - val_pred3_dsc: 0.8207 - val_final_dsc: 0.8158\n",
      "\n",
      "Epoch 00016: val_final_dsc did not improve from 0.85436\n",
      "Epoch 17/50\n",
      "1653/1653 [==============================] - 32s 19ms/step - loss: 0.7118 - pred1_loss: 0.1965 - pred2_loss: 0.1976 - pred3_loss: 0.1992 - final_loss: 0.1186 - pred1_dsc: 0.8637 - pred2_dsc: 0.8619 - pred3_dsc: 0.8611 - final_dsc: 0.8604 - val_loss: 0.8924 - val_pred1_loss: 0.2396 - val_pred2_loss: 0.2453 - val_pred3_loss: 0.2479 - val_final_loss: 0.1596 - val_pred1_dsc: 0.8441 - val_pred2_dsc: 0.8433 - val_pred3_dsc: 0.8416 - val_final_dsc: 0.8394\n",
      "\n",
      "Epoch 00017: val_final_dsc did not improve from 0.85436\n",
      "Epoch 18/50\n",
      "1653/1653 [==============================] - 32s 19ms/step - loss: 0.7095 - pred1_loss: 0.1956 - pred2_loss: 0.1969 - pred3_loss: 0.1987 - final_loss: 0.1183 - pred1_dsc: 0.8635 - pred2_dsc: 0.8631 - pred3_dsc: 0.8623 - final_dsc: 0.8616 - val_loss: 0.8119 - val_pred1_loss: 0.2222 - val_pred2_loss: 0.2236 - val_pred3_loss: 0.2257 - val_final_loss: 0.1404 - val_pred1_dsc: 0.8484 - val_pred2_dsc: 0.8433 - val_pred3_dsc: 0.8405 - val_final_dsc: 0.8377\n",
      "\n",
      "Epoch 00018: val_final_dsc did not improve from 0.85436\n",
      "Epoch 19/50\n",
      "1653/1653 [==============================] - 32s 20ms/step - loss: 0.7018 - pred1_loss: 0.1938 - pred2_loss: 0.1948 - pred3_loss: 0.1964 - final_loss: 0.1167 - pred1_dsc: 0.8655 - pred2_dsc: 0.8631 - pred3_dsc: 0.8622 - final_dsc: 0.8618 - val_loss: 0.7920 - val_pred1_loss: 0.2187 - val_pred2_loss: 0.2184 - val_pred3_loss: 0.2198 - val_final_loss: 0.1352 - val_pred1_dsc: 0.8570 - val_pred2_dsc: 0.8582 - val_pred3_dsc: 0.8565 - val_final_dsc: 0.8549\n",
      "\n",
      "Epoch 00019: val_final_dsc improved from 0.85436 to 0.85492, saving model to weights.hdf5\n",
      "Epoch 20/50\n",
      "1653/1653 [==============================] - 34s 20ms/step - loss: 0.6799 - pred1_loss: 0.1875 - pred2_loss: 0.1891 - pred3_loss: 0.1910 - final_loss: 0.1122 - pred1_dsc: 0.8712 - pred2_dsc: 0.8696 - pred3_dsc: 0.8687 - final_dsc: 0.8681 - val_loss: 0.7649 - val_pred1_loss: 0.2116 - val_pred2_loss: 0.2112 - val_pred3_loss: 0.2126 - val_final_loss: 0.1294 - val_pred1_dsc: 0.8448 - val_pred2_dsc: 0.8450 - val_pred3_dsc: 0.8440 - val_final_dsc: 0.8425\n",
      "\n",
      "Epoch 00020: val_final_dsc did not improve from 0.85492\n",
      "Epoch 21/50\n",
      "1653/1653 [==============================] - 35s 21ms/step - loss: 0.6456 - pred1_loss: 0.1788 - pred2_loss: 0.1803 - pred3_loss: 0.1818 - final_loss: 0.1048 - pred1_dsc: 0.8783 - pred2_dsc: 0.8767 - pred3_dsc: 0.8760 - final_dsc: 0.8754 - val_loss: 0.7806 - val_pred1_loss: 0.2134 - val_pred2_loss: 0.2154 - val_pred3_loss: 0.2173 - val_final_loss: 0.1345 - val_pred1_dsc: 0.8612 - val_pred2_dsc: 0.8595 - val_pred3_dsc: 0.8584 - val_final_dsc: 0.8569\n",
      "\n",
      "Epoch 00021: val_final_dsc improved from 0.85492 to 0.85692, saving model to weights.hdf5\n",
      "Epoch 22/50\n",
      "1653/1653 [==============================] - 34s 21ms/step - loss: 0.6519 - pred1_loss: 0.1808 - pred2_loss: 0.1815 - pred3_loss: 0.1833 - final_loss: 0.1063 - pred1_dsc: 0.8762 - pred2_dsc: 0.8756 - pred3_dsc: 0.8745 - final_dsc: 0.8742 - val_loss: 0.8021 - val_pred1_loss: 0.2195 - val_pred2_loss: 0.2212 - val_pred3_loss: 0.2225 - val_final_loss: 0.1390 - val_pred1_dsc: 0.8501 - val_pred2_dsc: 0.8472 - val_pred3_dsc: 0.8463 - val_final_dsc: 0.8447\n",
      "\n",
      "Epoch 00022: val_final_dsc did not improve from 0.85692\n",
      "Epoch 23/50\n",
      "1653/1653 [==============================] - 34s 21ms/step - loss: 0.6367 - pred1_loss: 0.1766 - pred2_loss: 0.1777 - pred3_loss: 0.1795 - final_loss: 0.1029 - pred1_dsc: 0.8803 - pred2_dsc: 0.8790 - pred3_dsc: 0.8783 - final_dsc: 0.8776 - val_loss: 0.8045 - val_pred1_loss: 0.2220 - val_pred2_loss: 0.2210 - val_pred3_loss: 0.2233 - val_final_loss: 0.1382 - val_pred1_dsc: 0.8536 - val_pred2_dsc: 0.8545 - val_pred3_dsc: 0.8540 - val_final_dsc: 0.8533\n",
      "\n",
      "Epoch 00023: val_final_dsc did not improve from 0.85692\n",
      "Epoch 24/50\n",
      "1653/1653 [==============================] - 34s 21ms/step - loss: 0.6418 - pred1_loss: 0.1775 - pred2_loss: 0.1791 - pred3_loss: 0.1810 - final_loss: 0.1042 - pred1_dsc: 0.8802 - pred2_dsc: 0.8783 - pred3_dsc: 0.8774 - final_dsc: 0.8767 - val_loss: 0.7951 - val_pred1_loss: 0.2163 - val_pred2_loss: 0.2203 - val_pred3_loss: 0.2220 - val_final_loss: 0.1366 - val_pred1_dsc: 0.8548 - val_pred2_dsc: 0.8505 - val_pred3_dsc: 0.8502 - val_final_dsc: 0.8486\n",
      "\n",
      "Epoch 00024: val_final_dsc did not improve from 0.85692\n",
      "Epoch 25/50\n",
      "1653/1653 [==============================] - 34s 20ms/step - loss: 0.6112 - pred1_loss: 0.1697 - pred2_loss: 0.1710 - pred3_loss: 0.1727 - final_loss: 0.0978 - pred1_dsc: 0.8865 - pred2_dsc: 0.8857 - pred3_dsc: 0.8847 - final_dsc: 0.8840 - val_loss: 0.7657 - val_pred1_loss: 0.2106 - val_pred2_loss: 0.2116 - val_pred3_loss: 0.2135 - val_final_loss: 0.1300 - val_pred1_dsc: 0.8614 - val_pred2_dsc: 0.8615 - val_pred3_dsc: 0.8603 - val_final_dsc: 0.8592\n",
      "\n",
      "Epoch 00025: val_final_dsc improved from 0.85692 to 0.85917, saving model to weights.hdf5\n",
      "Epoch 26/50\n",
      "1653/1653 [==============================] - 34s 21ms/step - loss: 0.6329 - pred1_loss: 0.1753 - pred2_loss: 0.1767 - pred3_loss: 0.1784 - final_loss: 0.1023 - pred1_dsc: 0.8823 - pred2_dsc: 0.8812 - pred3_dsc: 0.8804 - final_dsc: 0.8798 - val_loss: 0.7796 - val_pred1_loss: 0.2160 - val_pred2_loss: 0.2152 - val_pred3_loss: 0.2161 - val_final_loss: 0.1322 - val_pred1_dsc: 0.8386 - val_pred2_dsc: 0.8395 - val_pred3_dsc: 0.8397 - val_final_dsc: 0.8388\n",
      "\n",
      "Epoch 00026: val_final_dsc did not improve from 0.85917\n",
      "Epoch 27/50\n",
      "1653/1653 [==============================] - 34s 21ms/step - loss: 0.6066 - pred1_loss: 0.1686 - pred2_loss: 0.1696 - pred3_loss: 0.1714 - final_loss: 0.0970 - pred1_dsc: 0.8866 - pred2_dsc: 0.8854 - pred3_dsc: 0.8839 - final_dsc: 0.8837 - val_loss: 0.7787 - val_pred1_loss: 0.2144 - val_pred2_loss: 0.2147 - val_pred3_loss: 0.2164 - val_final_loss: 0.1332 - val_pred1_dsc: 0.8707 - val_pred2_dsc: 0.8695 - val_pred3_dsc: 0.8681 - val_final_dsc: 0.8676\n",
      "\n",
      "Epoch 00027: val_final_dsc improved from 0.85917 to 0.86758, saving model to weights.hdf5\n",
      "Epoch 28/50\n",
      "1653/1653 [==============================] - 34s 21ms/step - loss: 0.6051 - pred1_loss: 0.1678 - pred2_loss: 0.1692 - pred3_loss: 0.1711 - final_loss: 0.0969 - pred1_dsc: 0.8878 - pred2_dsc: 0.8866 - pred3_dsc: 0.8851 - final_dsc: 0.8845 - val_loss: 0.7834 - val_pred1_loss: 0.2142 - val_pred2_loss: 0.2182 - val_pred3_loss: 0.2180 - val_final_loss: 0.1330 - val_pred1_dsc: 0.8649 - val_pred2_dsc: 0.8636 - val_pred3_dsc: 0.8628 - val_final_dsc: 0.8619\n",
      "\n",
      "Epoch 00028: val_final_dsc did not improve from 0.86758\n",
      "Epoch 29/50\n",
      "1653/1653 [==============================] - 34s 21ms/step - loss: 0.5822 - pred1_loss: 0.1623 - pred2_loss: 0.1631 - pred3_loss: 0.1647 - final_loss: 0.0921 - pred1_dsc: 0.8928 - pred2_dsc: 0.8917 - pred3_dsc: 0.8908 - final_dsc: 0.8902 - val_loss: 0.7288 - val_pred1_loss: 0.2009 - val_pred2_loss: 0.2022 - val_pred3_loss: 0.2038 - val_final_loss: 0.1220 - val_pred1_dsc: 0.8650 - val_pred2_dsc: 0.8650 - val_pred3_dsc: 0.8648 - val_final_dsc: 0.8637\n",
      "\n",
      "Epoch 00029: val_final_dsc did not improve from 0.86758\n",
      "Epoch 30/50\n",
      "1653/1653 [==============================] - 34s 21ms/step - loss: 0.5825 - pred1_loss: 0.1622 - pred2_loss: 0.1632 - pred3_loss: 0.1650 - final_loss: 0.0921 - pred1_dsc: 0.8924 - pred2_dsc: 0.8911 - pred3_dsc: 0.8898 - final_dsc: 0.8893 - val_loss: 0.7666 - val_pred1_loss: 0.2085 - val_pred2_loss: 0.2135 - val_pred3_loss: 0.2146 - val_final_loss: 0.1301 - val_pred1_dsc: 0.8764 - val_pred2_dsc: 0.8747 - val_pred3_dsc: 0.8737 - val_final_dsc: 0.8728\n",
      "\n",
      "Epoch 00030: val_final_dsc improved from 0.86758 to 0.87279, saving model to weights.hdf5\n",
      "Epoch 31/50\n"
     ]
    },
    {
     "name": "stdout",
     "output_type": "stream",
     "text": [
      "1653/1653 [==============================] - 32s 20ms/step - loss: 0.5851 - pred1_loss: 0.1630 - pred2_loss: 0.1638 - pred3_loss: 0.1656 - final_loss: 0.0927 - pred1_dsc: 0.8920 - pred2_dsc: 0.8915 - pred3_dsc: 0.8905 - final_dsc: 0.8898 - val_loss: 0.9265 - val_pred1_loss: 0.2403 - val_pred2_loss: 0.2584 - val_pred3_loss: 0.2589 - val_final_loss: 0.1689 - val_pred1_dsc: 0.8519 - val_pred2_dsc: 0.8455 - val_pred3_dsc: 0.8453 - val_final_dsc: 0.8439\n",
      "\n",
      "Epoch 00031: val_final_dsc did not improve from 0.87279\n",
      "Epoch 32/50\n",
      "1653/1653 [==============================] - 33s 20ms/step - loss: 0.5635 - pred1_loss: 0.1573 - pred2_loss: 0.1580 - pred3_loss: 0.1597 - final_loss: 0.0884 - pred1_dsc: 0.8949 - pred2_dsc: 0.8949 - pred3_dsc: 0.8937 - final_dsc: 0.8933 - val_loss: 0.7511 - val_pred1_loss: 0.2059 - val_pred2_loss: 0.2081 - val_pred3_loss: 0.2099 - val_final_loss: 0.1272 - val_pred1_dsc: 0.8616 - val_pred2_dsc: 0.8528 - val_pred3_dsc: 0.8516 - val_final_dsc: 0.8507\n",
      "\n",
      "Epoch 00032: val_final_dsc did not improve from 0.87279\n",
      "Epoch 33/50\n",
      "1653/1653 [==============================] - 33s 20ms/step - loss: 0.5640 - pred1_loss: 0.1574 - pred2_loss: 0.1582 - pred3_loss: 0.1599 - final_loss: 0.0884 - pred1_dsc: 0.8967 - pred2_dsc: 0.8955 - pred3_dsc: 0.8950 - final_dsc: 0.8947 - val_loss: 0.7595 - val_pred1_loss: 0.2090 - val_pred2_loss: 0.2097 - val_pred3_loss: 0.2121 - val_final_loss: 0.1286 - val_pred1_dsc: 0.8645 - val_pred2_dsc: 0.8635 - val_pred3_dsc: 0.8623 - val_final_dsc: 0.8617\n",
      "\n",
      "Epoch 00033: val_final_dsc did not improve from 0.87279\n",
      "Epoch 34/50\n",
      "1653/1653 [==============================] - 34s 20ms/step - loss: 0.5307 - pred1_loss: 0.1486 - pred2_loss: 0.1493 - pred3_loss: 0.1511 - final_loss: 0.0818 - pred1_dsc: 0.9042 - pred2_dsc: 0.9037 - pred3_dsc: 0.9025 - final_dsc: 0.9021 - val_loss: 0.7615 - val_pred1_loss: 0.2093 - val_pred2_loss: 0.2105 - val_pred3_loss: 0.2126 - val_final_loss: 0.1291 - val_pred1_dsc: 0.8611 - val_pred2_dsc: 0.8585 - val_pred3_dsc: 0.8577 - val_final_dsc: 0.8569\n",
      "\n",
      "Epoch 00034: val_final_dsc did not improve from 0.87279\n",
      "Epoch 35/50\n",
      "1653/1653 [==============================] - 34s 21ms/step - loss: 0.5248 - pred1_loss: 0.1468 - pred2_loss: 0.1477 - pred3_loss: 0.1494 - final_loss: 0.0809 - pred1_dsc: 0.9047 - pred2_dsc: 0.9039 - pred3_dsc: 0.9028 - final_dsc: 0.9021 - val_loss: 0.7777 - val_pred1_loss: 0.2135 - val_pred2_loss: 0.2150 - val_pred3_loss: 0.2168 - val_final_loss: 0.1324 - val_pred1_dsc: 0.8520 - val_pred2_dsc: 0.8486 - val_pred3_dsc: 0.8477 - val_final_dsc: 0.8474\n",
      "\n",
      "Epoch 00035: val_final_dsc did not improve from 0.87279\n",
      "Epoch 36/50\n",
      "1653/1653 [==============================] - 34s 21ms/step - loss: 0.5178 - pred1_loss: 0.1454 - pred2_loss: 0.1458 - pred3_loss: 0.1473 - final_loss: 0.0793 - pred1_dsc: 0.9058 - pred2_dsc: 0.9053 - pred3_dsc: 0.9043 - final_dsc: 0.9038 - val_loss: 0.7335 - val_pred1_loss: 0.2026 - val_pred2_loss: 0.2030 - val_pred3_loss: 0.2051 - val_final_loss: 0.1228 - val_pred1_dsc: 0.8673 - val_pred2_dsc: 0.8663 - val_pred3_dsc: 0.8654 - val_final_dsc: 0.8654\n",
      "\n",
      "Epoch 00036: val_final_dsc did not improve from 0.87279\n",
      "Epoch 37/50\n",
      "1653/1653 [==============================] - 34s 21ms/step - loss: 0.5007 - pred1_loss: 0.1403 - pred2_loss: 0.1412 - pred3_loss: 0.1431 - final_loss: 0.0761 - pred1_dsc: 0.9111 - pred2_dsc: 0.9105 - pred3_dsc: 0.9090 - final_dsc: 0.9086 - val_loss: 0.7670 - val_pred1_loss: 0.2102 - val_pred2_loss: 0.2114 - val_pred3_loss: 0.2146 - val_final_loss: 0.1308 - val_pred1_dsc: 0.8696 - val_pred2_dsc: 0.8697 - val_pred3_dsc: 0.8685 - val_final_dsc: 0.8681\n",
      "\n",
      "Epoch 00037: val_final_dsc did not improve from 0.87279\n",
      "Epoch 38/50\n",
      "1653/1653 [==============================] - 35s 21ms/step - loss: 0.5111 - pred1_loss: 0.1434 - pred2_loss: 0.1439 - pred3_loss: 0.1456 - final_loss: 0.0781 - pred1_dsc: 0.9079 - pred2_dsc: 0.9073 - pred3_dsc: 0.9067 - final_dsc: 0.9063 - val_loss: 0.7453 - val_pred1_loss: 0.2057 - val_pred2_loss: 0.2064 - val_pred3_loss: 0.2081 - val_final_loss: 0.1251 - val_pred1_dsc: 0.8591 - val_pred2_dsc: 0.8584 - val_pred3_dsc: 0.8580 - val_final_dsc: 0.8576\n",
      "\n",
      "Epoch 00038: val_final_dsc did not improve from 0.87279\n",
      "Epoch 39/50\n",
      "1653/1653 [==============================] - 34s 21ms/step - loss: 0.4865 - pred1_loss: 0.1366 - pred2_loss: 0.1372 - pred3_loss: 0.1392 - final_loss: 0.0735 - pred1_dsc: 0.9129 - pred2_dsc: 0.9125 - pred3_dsc: 0.9113 - final_dsc: 0.9108 - val_loss: 0.7548 - val_pred1_loss: 0.2080 - val_pred2_loss: 0.2090 - val_pred3_loss: 0.2103 - val_final_loss: 0.1274 - val_pred1_dsc: 0.8462 - val_pred2_dsc: 0.8438 - val_pred3_dsc: 0.8432 - val_final_dsc: 0.8420\n",
      "\n",
      "Epoch 00039: val_final_dsc did not improve from 0.87279\n",
      "Epoch 40/50\n",
      "1653/1653 [==============================] - 34s 21ms/step - loss: 0.4848 - pred1_loss: 0.1363 - pred2_loss: 0.1367 - pred3_loss: 0.1386 - final_loss: 0.0732 - pred1_dsc: 0.9134 - pred2_dsc: 0.9125 - pred3_dsc: 0.9114 - final_dsc: 0.9108 - val_loss: 0.7547 - val_pred1_loss: 0.2085 - val_pred2_loss: 0.2086 - val_pred3_loss: 0.2104 - val_final_loss: 0.1272 - val_pred1_dsc: 0.8606 - val_pred2_dsc: 0.8594 - val_pred3_dsc: 0.8586 - val_final_dsc: 0.8586\n",
      "\n",
      "Epoch 00040: val_final_dsc did not improve from 0.87279\n",
      "Epoch 41/50\n",
      "1653/1653 [==============================] - 34s 21ms/step - loss: 0.4839 - pred1_loss: 0.1357 - pred2_loss: 0.1364 - pred3_loss: 0.1386 - final_loss: 0.0732 - pred1_dsc: 0.9144 - pred2_dsc: 0.9139 - pred3_dsc: 0.9123 - final_dsc: 0.9118 - val_loss: 0.7492 - val_pred1_loss: 0.2067 - val_pred2_loss: 0.2071 - val_pred3_loss: 0.2093 - val_final_loss: 0.1261 - val_pred1_dsc: 0.8735 - val_pred2_dsc: 0.8720 - val_pred3_dsc: 0.8709 - val_final_dsc: 0.8699\n",
      "\n",
      "Epoch 00041: val_final_dsc did not improve from 0.87279\n",
      "Epoch 42/50\n",
      "1653/1653 [==============================] - 34s 21ms/step - loss: 0.4622 - pred1_loss: 0.1303 - pred2_loss: 0.1305 - pred3_loss: 0.1324 - final_loss: 0.0690 - pred1_dsc: 0.9178 - pred2_dsc: 0.9179 - pred3_dsc: 0.9167 - final_dsc: 0.9162 - val_loss: 0.9334 - val_pred1_loss: 0.2452 - val_pred2_loss: 0.2561 - val_pred3_loss: 0.2608 - val_final_loss: 0.1714 - val_pred1_dsc: 0.8631 - val_pred2_dsc: 0.8579 - val_pred3_dsc: 0.8547 - val_final_dsc: 0.8527\n",
      "\n",
      "Epoch 00042: val_final_dsc did not improve from 0.87279\n",
      "Epoch 43/50\n",
      "1653/1653 [==============================] - 33s 20ms/step - loss: 0.4788 - pred1_loss: 0.1336 - pred2_loss: 0.1344 - pred3_loss: 0.1374 - final_loss: 0.0734 - pred1_dsc: 0.9162 - pred2_dsc: 0.9147 - pred3_dsc: 0.9137 - final_dsc: 0.9128 - val_loss: 0.7414 - val_pred1_loss: 0.2037 - val_pred2_loss: 0.2046 - val_pred3_loss: 0.2075 - val_final_loss: 0.1256 - val_pred1_dsc: 0.8676 - val_pred2_dsc: 0.8671 - val_pred3_dsc: 0.8656 - val_final_dsc: 0.8656\n",
      "\n",
      "Epoch 00043: val_final_dsc did not improve from 0.87279\n",
      "Epoch 44/50\n",
      "1653/1653 [==============================] - 34s 21ms/step - loss: 0.4611 - pred1_loss: 0.1296 - pred2_loss: 0.1300 - pred3_loss: 0.1326 - final_loss: 0.0689 - pred1_dsc: 0.9175 - pred2_dsc: 0.9173 - pred3_dsc: 0.9156 - final_dsc: 0.9159 - val_loss: 0.7462 - val_pred1_loss: 0.2054 - val_pred2_loss: 0.2058 - val_pred3_loss: 0.2084 - val_final_loss: 0.1265 - val_pred1_dsc: 0.8725 - val_pred2_dsc: 0.8728 - val_pred3_dsc: 0.8711 - val_final_dsc: 0.8706\n",
      "\n",
      "Epoch 00044: val_final_dsc did not improve from 0.87279\n",
      "Epoch 45/50\n",
      "1653/1653 [==============================] - 34s 20ms/step - loss: 0.4348 - pred1_loss: 0.1228 - pred2_loss: 0.1229 - pred3_loss: 0.1252 - final_loss: 0.0639 - pred1_dsc: 0.9236 - pred2_dsc: 0.9237 - pred3_dsc: 0.9220 - final_dsc: 0.9220 - val_loss: 0.7244 - val_pred1_loss: 0.2006 - val_pred2_loss: 0.2001 - val_pred3_loss: 0.2024 - val_final_loss: 0.1213 - val_pred1_dsc: 0.8737 - val_pred2_dsc: 0.8727 - val_pred3_dsc: 0.8708 - val_final_dsc: 0.8708\n",
      "\n",
      "Epoch 00045: val_final_dsc did not improve from 0.87279\n",
      "Epoch 46/50\n",
      "1653/1653 [==============================] - 34s 21ms/step - loss: 0.4399 - pred1_loss: 0.1241 - pred2_loss: 0.1245 - pred3_loss: 0.1265 - final_loss: 0.0647 - pred1_dsc: 0.9224 - pred2_dsc: 0.9220 - pred3_dsc: 0.9208 - final_dsc: 0.9205 - val_loss: 0.7620 - val_pred1_loss: 0.2072 - val_pred2_loss: 0.2114 - val_pred3_loss: 0.2136 - val_final_loss: 0.1298 - val_pred1_dsc: 0.8764 - val_pred2_dsc: 0.8760 - val_pred3_dsc: 0.8747 - val_final_dsc: 0.8739\n"
     ]
    },
    {
     "name": "stdout",
     "output_type": "stream",
     "text": [
      "\n",
      "Epoch 00046: val_final_dsc improved from 0.87279 to 0.87392, saving model to weights.hdf5\n",
      "Epoch 47/50\n",
      "1653/1653 [==============================] - 32s 20ms/step - loss: 0.4741 - pred1_loss: 0.1328 - pred2_loss: 0.1339 - pred3_loss: 0.1360 - final_loss: 0.0715 - pred1_dsc: 0.9157 - pred2_dsc: 0.9147 - pred3_dsc: 0.9134 - final_dsc: 0.9132 - val_loss: 0.7931 - val_pred1_loss: 0.2178 - val_pred2_loss: 0.2187 - val_pred3_loss: 0.2208 - val_final_loss: 0.1358 - val_pred1_dsc: 0.8663 - val_pred2_dsc: 0.8664 - val_pred3_dsc: 0.8649 - val_final_dsc: 0.8646\n",
      "\n",
      "Epoch 00047: val_final_dsc did not improve from 0.87392\n",
      "Epoch 48/50\n",
      "1653/1653 [==============================] - 33s 20ms/step - loss: 0.4211 - pred1_loss: 0.1191 - pred2_loss: 0.1194 - pred3_loss: 0.1213 - final_loss: 0.0612 - pred1_dsc: 0.9272 - pred2_dsc: 0.9267 - pred3_dsc: 0.9257 - final_dsc: 0.9254 - val_loss: 0.7599 - val_pred1_loss: 0.2092 - val_pred2_loss: 0.2100 - val_pred3_loss: 0.2119 - val_final_loss: 0.1288 - val_pred1_dsc: 0.8675 - val_pred2_dsc: 0.8665 - val_pred3_dsc: 0.8657 - val_final_dsc: 0.8646\n",
      "\n",
      "Epoch 00048: val_final_dsc did not improve from 0.87392\n",
      "Epoch 49/50\n",
      "1653/1653 [==============================] - 33s 20ms/step - loss: 0.4275 - pred1_loss: 0.1207 - pred2_loss: 0.1210 - pred3_loss: 0.1232 - final_loss: 0.0626 - pred1_dsc: 0.9252 - pred2_dsc: 0.9251 - pred3_dsc: 0.9236 - final_dsc: 0.9231 - val_loss: 0.7399 - val_pred1_loss: 0.2043 - val_pred2_loss: 0.2043 - val_pred3_loss: 0.2066 - val_final_loss: 0.1247 - val_pred1_dsc: 0.8771 - val_pred2_dsc: 0.8766 - val_pred3_dsc: 0.8751 - val_final_dsc: 0.8744\n",
      "\n",
      "Epoch 00049: val_final_dsc improved from 0.87392 to 0.87438, saving model to weights.hdf5\n",
      "Epoch 50/50\n",
      "1653/1653 [==============================] - 34s 21ms/step - loss: 0.4198 - pred1_loss: 0.1186 - pred2_loss: 0.1190 - pred3_loss: 0.1210 - final_loss: 0.0612 - pred1_dsc: 0.9271 - pred2_dsc: 0.9270 - pred3_dsc: 0.9256 - final_dsc: 0.9254 - val_loss: 0.7936 - val_pred1_loss: 0.2185 - val_pred2_loss: 0.2180 - val_pred3_loss: 0.2213 - val_final_loss: 0.1359 - val_pred1_dsc: 0.8653 - val_pred2_dsc: 0.8645 - val_pred3_dsc: 0.8631 - val_final_dsc: 0.8629\n",
      "\n",
      "Epoch 00050: val_final_dsc did not improve from 0.87438\n"
     ]
    }
   ],
   "source": [
    "hist = model.fit(imgs_train, gt_train, validation_split=0.15,\n",
    "                 shuffle=True, epochs=epochnum, batch_size=batchnum, \n",
    "                 verbose=True, callbacks=[checkpoint])#, callbacks=[estop,tb])"
   ]
  },
  {
   "cell_type": "code",
   "execution_count": 19,
   "metadata": {},
   "outputs": [
    {
     "data": {
      "image/png": "[encoded data removed]",
      "text/plain": [
       "<Figure size 432x288 with 1 Axes>"
      ]
     },
     "metadata": {
      "needs_background": "light"
     },
     "output_type": "display_data"
    },
    {
     "data": {
      "image/png": "[encoded data removed]",
      "text/plain": [
       "<Figure size 432x288 with 1 Axes>"
      ]
     },
     "metadata": {
      "needs_background": "light"
     },
     "output_type": "display_data"
    }
   ],
   "source": [
    "h = hist.history\n",
    "utils.plot(h, epochnum, batchnum, img_col, 1)"
   ]
  },
  {
   "cell_type": "code",
   "execution_count": 20,
   "metadata": {},
   "outputs": [],
   "source": [
    "del imgs_train"
   ]
  },
  {
   "cell_type": "code",
   "execution_count": 21,
   "metadata": {},
   "outputs": [],
   "source": [
    "num_test = len(imgs_test)\n",
    "_,_,_,preds = model.predict(imgs_test)\n",
    "#preds = model.predict(imgs_test)   #use this if the model is unet"
   ]
  },
  {
   "cell_type": "code",
   "execution_count": 22,
   "metadata": {},
   "outputs": [],
   "source": [
    "preds_up=[]\n",
    "dsc = np.zeros((num_test,1))\n",
    "recall = np.zeros_like(dsc)\n",
    "tn = np.zeros_like(dsc)\n",
    "prec = np.zeros_like(dsc)\n",
    "\n",
    "thresh = 0.5"
   ]
  },
  {
   "cell_type": "code",
   "execution_count": 47,
   "metadata": {},
   "outputs": [],
   "source": [
    "# check the predictions from the trained model \n",
    "for i in range(num_test):\n",
    "    #gt = orig_masks[testIdx[i]]\n",
    "    name = img_list[testIdx[i]]\n",
    "    gt = plt.imread(os.path.join(orig_dir, name.split('.')[0] + \"_segmentation.png\")) \n",
    "\n",
    "    #pred_up = cv2.resize(preds[i], (gt.shape[1], gt.shape[0]), interpolation=cv2.INTER_NEAREST)\n",
    "    pred_up = resize(preds[i], (gt.shape[0], gt.shape[1]))\n",
    "    zzz = pred_up > thresh\n",
    "    zzz = zzz.reshape((gt.shape[0], gt.shape[1]))\n",
    "    dsc[i] = utils.check_preds(pred_up > thresh, gt)\n",
    "    recall[i], _, prec[i] = utils.auc(gt, zzz)"
   ]
  },
  {
   "cell_type": "code",
   "execution_count": 48,
   "metadata": {},
   "outputs": [
    {
     "name": "stdout",
     "output_type": "stream",
     "text": [
      "------------------------------\n",
      "At threshold = 0.5\n",
      "\n",
      " DSC \t\t0.841 \n",
      " Recall \t0.911 \n",
      " Precision\t0.824\n"
     ]
    }
   ],
   "source": [
    "print('-'*30)\n",
    "print('At threshold =', thresh)\n",
    "print('\\n DSC \\t\\t{0:^.3f} \\n Recall \\t{1:^.3f} \\n Precision\\t{2:^.3f}'.format(\n",
    "        np.sum(dsc)/num_test,  \n",
    "        np.sum(recall)/num_test,\n",
    "        np.sum(prec)/num_test ))"
   ]
  },
  {
   "cell_type": "code",
   "execution_count": 49,
   "metadata": {},
   "outputs": [],
   "source": [
    "# check the predictions with the best saved model from checkpoint\n",
    "model.load_weights(\"weights.hdf5\")\n",
    "_,_,_,preds = model.predict(imgs_test)\n",
    "#preds = model.predict(imgs_test)   #use this if the model is unet"
   ]
  },
  {
   "cell_type": "code",
   "execution_count": 50,
   "metadata": {},
   "outputs": [],
   "source": [
    "preds_up=[]\n",
    "dsc = np.zeros((num_test,1))\n",
    "recall = np.zeros_like(dsc)\n",
    "tn = np.zeros_like(dsc)\n",
    "prec = np.zeros_like(dsc)"
   ]
  },
  {
   "cell_type": "code",
   "execution_count": 51,
   "metadata": {},
   "outputs": [],
   "source": [
    "for i in range(num_test):\n",
    "    #gt = orig_masks[testIdx[i]]\n",
    "    name = img_list[testIdx[i]]\n",
    "    gt = plt.imread(os.path.join(orig_dir, name.split('.')[0] + \"_segmentation.png\")) \n",
    "\n",
    "    #pred_up = cv2.resize(preds[i], (gt.shape[1], gt.shape[0]), interpolation=cv2.INTER_NEAREST)\n",
    "    pred_up = resize(preds[i], (gt.shape[1], gt.shape[0]))\n",
    "    zzz = pred_up > thresh\n",
    "    zzz = zzz.reshape((gt.shape[0], gt.shape[1]))    \n",
    "    dsc[i] = utils.check_preds(pred_up > thresh, gt)\n",
    "    recall[i], _, prec[i] = utils.auc(gt, zzz)"
   ]
  },
  {
   "cell_type": "code",
   "execution_count": 52,
   "metadata": {},
   "outputs": [
    {
     "name": "stdout",
     "output_type": "stream",
     "text": [
      "------------------------------\n",
      "USING HDF5 saved model at thresh= 0.5\n",
      "\n",
      " DSC \t\t0.323 \n",
      " Recall \t0.335 \n",
      " Precision\t0.327\n"
     ]
    }
   ],
   "source": [
    "print('-'*30)\n",
    "print('USING HDF5 saved model at thresh=', thresh)\n",
    "print('\\n DSC \\t\\t{0:^.3f} \\n Recall \\t{1:^.3f} \\n Precision\\t{2:^.3f}'.format(\n",
    "        np.sum(dsc)/num_test,  \n",
    "        np.sum(recall)/num_test,\n",
    "        np.sum(prec)/num_test ))"
   ]
  },
  {
   "cell_type": "code",
   "execution_count": 65,
   "metadata": {},
   "outputs": [],
   "source": [
    "#plot precision-recall \n",
    "y_true = orig_imgs_mask_test.ravel() \n",
    "y_preds = preds.ravel() \n",
    "precision, recall, thresholds = precision_recall_curve(y_true > thresh, y_preds)"
   ]
  },
  {
   "cell_type": "code",
   "execution_count": 68,
   "metadata": {},
   "outputs": [
    {
     "data": {
      "text/plain": [
       "Text(0.5,1,'Precision-Recall Curve')"
      ]
     },
     "execution_count": 68,
     "metadata": {},
     "output_type": "execute_result"
    },
    {
     "data": {
      "image/png": "[encoded data removed]",
      "text/plain": [
       "<Figure size 432x288 with 1 Axes>"
      ]
     },
     "metadata": {
      "needs_background": "light"
     },
     "output_type": "display_data"
    }
   ],
   "source": [
    "plt.figure(20)\n",
    "plt.plot(recall,precision)\n",
    "plt.title('Precision-Recall Curve')"
   ]
  }
 ],
 "metadata": {
  "kernelspec": {
   "display_name": "Python 3",
   "language": "python",
   "name": "python3"
  },
  "language_info": {
   "codemirror_mode": {
    "name": "ipython",
    "version": 3
   },
   "file_extension": ".py",
   "mimetype": "text/x-python",
   "name": "python",
   "nbconvert_exporter": "python",
   "pygments_lexer": "ipython3",
   "version": "3.5.2"
  }
 },
 "nbformat": 4,
 "nbformat_minor": 2
}
